{
 "cells": [
  {
   "cell_type": "markdown",
   "metadata": {},
   "source": [
    "注意点\n",
    "- 現状は一問一答方式で、Chat履歴の記憶には非対応"
   ]
  },
  {
   "cell_type": "code",
   "execution_count": 2,
   "metadata": {},
   "outputs": [
    {
     "data": {
      "text/plain": [
       "True"
      ]
     },
     "execution_count": 2,
     "metadata": {},
     "output_type": "execute_result"
    }
   ],
   "source": [
    "import os\n",
    "import re\n",
    "\n",
    "from langchain.agents import Tool, AgentExecutor, LLMSingleActionAgent, AgentOutputParser\n",
    "from langchain.prompts import BaseChatPromptTemplate\n",
    "from langchain import SerpAPIWrapper, LLMChain\n",
    "from langchain.chat_models import AzureChatOpenAI\n",
    "from typing import List, Union\n",
    "from langchain.schema import AgentAction, AgentFinish, HumanMessage\n",
    "from langchain.utilities import BingSearchAPIWrapper\n",
    "\n",
    "from dotenv import load_dotenv \n",
    "load_dotenv(\"/home/shohei/.env\", override=True)\n"
   ]
  },
  {
   "cell_type": "code",
   "execution_count": 3,
   "metadata": {},
   "outputs": [],
   "source": [
    "# search = SerpAPIWrapper(serpapi_api_key=os.environ[\"SERPAPI_API_KEY\"]) # SerpAPI\n",
    "search = BingSearchAPIWrapper(bing_subscription_key=os.environ[\"BING_SUBSCRIPTION_KEY\"], # Bing API\n",
    "                              bing_search_url=\"https://api.bing.microsoft.com/v7.0/search\")\n",
    "\n",
    "tools = [\n",
    "    Tool(\n",
    "        name = \"Search\",\n",
    "        func=search.run,\n",
    "        description=\"useful for when you need to answer questions about current events or the current state of the world. The input to this should be a single search term.\"\n",
    "    )\n",
    "]\n",
    "\n",
    "template = \"\"\"Complete the objective as best you can. You have access to the following tools:\n",
    "\n",
    "{tools}\n",
    "\n",
    "Use the following format:\n",
    "\n",
    "Question: the input question you must answer\n",
    "Thought: you should always think about what to do\n",
    "Action: the action to take, should be one of [{tool_names}]\n",
    "Action Input: the input to the action\n",
    "Observation: the result of the action\n",
    "... (this Thought/Action/Action Input/Observation can repeat N times)\n",
    "Thought: I now know the final answer\n",
    "Final Answer: the final answer to the original input question. Please respond in Japanese.\n",
    "\n",
    "These were previous tasks you completed:\n",
    "\n",
    "\n",
    "\n",
    "Begin!\n",
    "\n",
    "Question: {input}\n",
    "{agent_scratchpad}\"\"\"\n",
    "\n",
    "\n",
    "# Set up a prompt template\n",
    "class CustomPromptTemplate(BaseChatPromptTemplate):\n",
    "    # The template to use\n",
    "    template: str\n",
    "    # The list of tools available\n",
    "    tools: List[Tool]\n",
    "    \n",
    "    def format_messages(self, **kwargs) -> str:\n",
    "        # Get the intermediate steps (AgentAction, Observation tuples)\n",
    "        # Format them in a particular way\n",
    "        intermediate_steps = kwargs.pop(\"intermediate_steps\")\n",
    "        thoughts = \"\"\n",
    "        for action, observation in intermediate_steps:\n",
    "            thoughts += action.log\n",
    "            thoughts += f\"\\nObservation: {observation}\\nThought: \"\n",
    "        # Set the agent_scratchpad variable to that value\n",
    "        kwargs[\"agent_scratchpad\"] = thoughts\n",
    "        # Create a tools variable from the list of tools provided\n",
    "        kwargs[\"tools\"] = \"\\n\".join([f\"{tool.name}: {tool.description}\" for tool in self.tools])\n",
    "        # Create a list of tool names for the tools provided\n",
    "        kwargs[\"tool_names\"] = \", \".join([tool.name for tool in self.tools])\n",
    "        formatted = self.template.format(**kwargs)\n",
    "        return [HumanMessage(content=formatted)]\n",
    "\n",
    "prompt = CustomPromptTemplate(\n",
    "    template=template,\n",
    "    tools=tools,\n",
    "    # This omits the `agent_scratchpad`, `tools`, and `tool_names` variables because those are generated dynamically\n",
    "    # This includes the `intermediate_steps` variable because that is needed\n",
    "    input_variables=[\"input\", \"intermediate_steps\"]\n",
    ")\n",
    "\n",
    "class CustomOutputParser(AgentOutputParser):\n",
    "    def parse(self, llm_output: str) -> Union[AgentAction, AgentFinish]:\n",
    "        # Check if agent should finish\n",
    "        if \"Final Answer:\" in llm_output:\n",
    "            return AgentFinish(\n",
    "                # Return values is generally always a dictionary with a single `output` key\n",
    "                # It is not recommended to try anything else at the moment :)\n",
    "                return_values={\"output\": llm_output.split(\"Final Answer:\")[-1].strip()},\n",
    "                log=llm_output,\n",
    "            )\n",
    "        # Parse out the action and action input\n",
    "        regex = r\"Action\\s*\\d*\\s*:(.*?)\\nAction\\s*\\d*\\s*Input\\s*\\d*\\s*:[\\s]*(.*)\"\n",
    "        match = re.search(regex, llm_output, re.DOTALL)\n",
    "        if not match:\n",
    "            # raise ValueError(f\"Could not parse LLM output: `{llm_output}`\") #強引に正常終了させる形へ\n",
    "            return AgentFinish(\n",
    "                return_values={\"output\": llm_output},\n",
    "                log=llm_output)\n",
    "        action = match.group(1).strip()\n",
    "        action_input = match.group(2)\n",
    "        # Return the action and action input\n",
    "        return AgentAction(tool=action, tool_input=action_input.strip(\" \").strip('\"'), log=llm_output)\n",
    "\n",
    "\n",
    "output_parser = CustomOutputParser()\n",
    "\n",
    "# AzureChatOpenAIクラスのインスタンス作成\n",
    "llm = AzureChatOpenAI(openai_api_base = os.environ[\"AZURE_OPENAI_API_BASE\"], # リソースによって異なる\n",
    "                        openai_api_version = \"2023-07-01-preview\", \n",
    "                        openai_api_key = os.environ[\"AZURE_OPENAI_API_KEY\"],\n",
    "                        deployment_name=\"gpt-35-turbo\", # モデルのデプロイ名\n",
    "                        temperature=0)\n",
    "\n",
    "# LLM chain consisting of the LLM and a prompt\n",
    "llm_chain = LLMChain(llm=llm, prompt=prompt)\n",
    "\n",
    "tool_names = [tool.name for tool in tools]\n",
    "agent = LLMSingleActionAgent(\n",
    "    llm_chain=llm_chain, \n",
    "    output_parser=output_parser,\n",
    "    stop=[\"\\nObservation:\"], \n",
    "    allowed_tools=tool_names\n",
    ")\n",
    "\n",
    "agent_executor = AgentExecutor.from_agent_and_tools(agent=agent, tools=tools, verbose=True)"
   ]
  },
  {
   "cell_type": "code",
   "execution_count": 4,
   "metadata": {},
   "outputs": [
    {
     "name": "stdout",
     "output_type": "stream",
     "text": [
      "\n",
      "\n",
      "\u001b[1m> Entering new AgentExecutor chain...\u001b[0m\n",
      "\u001b[32;1m\u001b[1;3mThought: I need to find information about the differences between the 2035 problem and the 2040 problem.\n",
      "Action: Search\n",
      "Action Input: \"differences between 2035 problem and 2040 problem\"\u001b[0m\n",
      "\n",
      "Observation:\u001b[36;1m\u001b[1;3m<b>2035</b>年問題とは、2025年から<b>2035</b>年にかけて団塊世代（一般的に1947年〜1949年生まれの人々）の高齢化が進み、ほかの世代を含めた人口の約3分の1を高齢者が占めることで、医療や経済に影響を与えると想定 <b>2040</b>年問題と2054年問題 では、「<b>2040</b>年問題」とは何か。それは、2025年から<b>2040</b>年という僅か15年間において、現役人口（20歳ー64歳）が約1,000万人も減少するという問題である。既述の「将来人口推計」では、2025年に6,634万 失業率の増加 <b>2035</b>年問題の種類 人口の3割が高齢者 医療・介護費用は1.9倍に 日本の総人口は1 億人を下回る <b>2035</b>年問題の影響 <b>2035</b>年問題による経済への影響 <b>2035</b>年問題による医療への影響 <b>2035</b>年問題による介護への影響 <b>2035</b>年問題による社会への影響 <b>2035</b>年問題による教育への影響 <b>2035</b>年問題で変化する働き方 正社員が消える 時間や空間に捉われない働き方へ This <b>problem</b> is that the working population (aged <b>between</b> 20 and 64) will decrease by as much as 10 million in only 15 years <b>between</b> 2025 <b>and 2040</b>. The above-cited population projections indicate that the working population (aged <b>between</b> 20 and 64) will decrease from 66.34 million in 2025 to 55.42 million in <b>2040</b>. Since then, <b>problem</b>s such as ”2030 <b>problem</b>,” ”<b>2035</b> <b>problem</b>,” <b>and”2040</b> <b>problem</b>” will continue to arise as the population declines and the aging rate increases. Japan will spend the next 20 years grappling with social issues. It’s In <b>2035</b>, the world is running on multiple separate tracks. Different systems and standards in different parts of the world have solidified, creating several parallel clusters of states. Attitudes towards key determinants of well-being Ensuring net-zero electricity generation by <b>2035</b> for all developed economies <b>and 2040</b> for the rest of the world. Ceasing all licensing or funding of new oil and gas – consistent with the findings of the International Energy Agency. primary balance by the end-year (2030 for the United States <b>and 2040</b> for Japan) is significantly larger than the average increase over the period from 2011 to the end-year. For other countries, where the requirement is smaller and Policies that end sales of new internal combustion engine cars by <b>2035</b> and boost electrification underpin the massive reduction in transport emissions. In 2050, cars on the road worldwide run on electricity or fuel cells. Low Plastic pollution in oceans and other bodies of water continues to grow sharply and could more than double by 2030, according to an assessment released on Thursday by the UN Environment Programme ( UNEP ). The report highlights dire consequences for health, the economy, biodiversity and the climate.\u001b[0m\u001b[32;1m\u001b[1;3mI have found information about the differences between the 2035 problem and the 2040 problem. The 2035 problem refers to the aging population of the baby boomer generation, where approximately one-third of the population will be elderly by 2035. This will have implications for healthcare and the economy. On the other hand, the 2040 problem is the significant decrease in the working population (aged 20-64) within a 15-year period from 2025 to 2040, with a projected decrease of 10 million people. This will also have various impacts on society, including changes in employment patterns and the need for caregiving.\u001b[0m\n",
      "\n",
      "\u001b[1m> Finished chain.\u001b[0m\n"
     ]
    },
    {
     "data": {
      "text/plain": [
       "'I have found information about the differences between the 2035 problem and the 2040 problem. The 2035 problem refers to the aging population of the baby boomer generation, where approximately one-third of the population will be elderly by 2035. This will have implications for healthcare and the economy. On the other hand, the 2040 problem is the significant decrease in the working population (aged 20-64) within a 15-year period from 2025 to 2040, with a projected decrease of 10 million people. This will also have various impacts on society, including changes in employment patterns and the need for caregiving.'"
      ]
     },
     "execution_count": 4,
     "metadata": {},
     "output_type": "execute_result"
    }
   ],
   "source": [
    "agent_executor.run(\"2035年問題と2040年問題の違いは何ですか\")"
   ]
  },
  {
   "cell_type": "code",
   "execution_count": 6,
   "metadata": {},
   "outputs": [
    {
     "name": "stdout",
     "output_type": "stream",
     "text": [
      "\n",
      "\n",
      "\u001b[1m> Entering new AgentExecutor chain...\u001b[0m\n",
      "\u001b[32;1m\u001b[1;3mThought: I need to translate the previous answer into Japanese.\n",
      "Action: Search\n",
      "Action Input: \"Translate English to Japanese\"\u001b[0m\n",
      "\n",
      "Observation:\u001b[36;1m\u001b[1;3mTranslation Google&#39;s service, offered free of charge, instantly translates words, phrases, and web pages between <b>English</b> and over 100 other languages. Millions <b>translate</b> with DeepL every day. Popular: Spanish to <b>English</b>, French to <b>English</b>, and <b>Japanese</b> to <b>English</b>. Millions <b>translate</b> with DeepL every day. Popular: Spanish to <b>English</b>, French to <b>English</b>, and <b>Japanese</b> to <b>English</b>. <b>Translate</b> from <b>English</b> to <b>Japanese</b> online - a free and easy-to-use translation tool. Simply enter your text, and Yandex <b>Translate</b> will provide you with a quick and accurate translation in seconds. Try Yandex <b>Translate</b> for your 英語翻訳のやり方 1.「原文」のテキストボックスに、英訳や和訳したい文章を入力してください。 2.翻訳ボタンをクリックしてください。 3.英語の場合は和訳された文章が、日本語の場合は英訳された翻訳結果が表示されます。 英語翻訳の便利な使い方 ・英単語を英和和英辞典で調べつつ、文章全体の概要を翻訳して知ることができます ・英訳した文章について、英語辞典で発音や音声を確認することができます ビジネスでも英語翻訳 ・医学、医薬などの医療関連の英語の論文を英訳や和訳したいとき ・特許などの専門分野のドキュメントを英訳や和訳したいとき ・金融や法律関係のビジネス向けのテキストを英訳や和訳したいとき 毎日の生活でも英語翻訳 ・TwitterやFacebookで海外の友人向けに英訳した文章を作りたいとき Free <b>English</b> to <b>Japanese</b> translator with audio. <b>Translate</b> words, phrases and sentences. Most Popular Phrases in <b>English</b> to <b>Japanese</b> Communicate smoothly and use a free online translator to <b>translate</b> text, words, phrases, or documents between 5,900+ language pairs Google 翻訳 ... 翻訳\u001b[0m\u001b[32;1m\u001b[1;3mI should use Google Translate to translate the previous answer into Japanese.\n",
      "Action: Search\n",
      "Action Input: \"Translate English to Japanese\"\u001b[0m\n",
      "\n",
      "Observation:\u001b[36;1m\u001b[1;3mTranslation. Google&#39;s service, offered free of charge, instantly <b>translate</b>s words, phrases, and web pages between <b>English</b> and over 100 other languages. DeepL <b>Translate English</b> to <b>Japanese</b>. Translate text. 31 languages. Translate files. .pdf, .docx, .pptx. DeepL Write. AI-powered edits. English. Japanese. Options. Type to translate. Drag and drop to translate PDF, Word (.docx), and PowerPoint (.pptx) files with our document translator. Dictionary. Click on a word to look it up. Millions <b>translate</b> with DeepL every day. Popular: Spanish to <b>English</b>, French to <b>English</b>, and <b>Japanese</b> to <b>English</b>. <b>Translate</b> from <b>English</b> to <b>Japanese</b> online - a free and easy-to-use translation tool. Simply enter your text, and Yandex <b>Translate</b> will provide you with a quick and accurate translation in seconds. Try Yandex <b>Translate</b> for your 英語翻訳のやり方. 1.「原文」のテキストボックスに、英訳や和訳したい文章を入力してください。 2.翻訳ボタンをクリックしてください。 3.英語の場合は和訳された文章が、日本語の場合は英訳された翻訳結果が表示されます。 英語翻訳の便利な使い方. ・英単語を英和和英辞典で調べつつ、文章全体の概要を翻訳して知ることができます. ・英訳した文章について、英語辞典で発音や音声を確認することができます. ビジネスでも英語翻訳. ・医学、医薬などの医療関連の英語の論文を英訳や和訳したいとき. ・特許などの専門分野のドキュメントを英訳や和訳したいとき. ・金融や法律関係のビジネス向けのテキストを英訳や和訳したいとき. 毎日の生活でも英語翻訳. Free <b>English</b> to <b>Japanese</b> translator with audio. <b>Translate</b> words, phrases and sentences. Most Popular Phrases in <b>English</b> to <b>Japanese</b> Communicate smoothly and use a free online translator to <b>translate</b> text, words, phrases, or documents between 5,900+ language pairs Google 翻訳 ... 翻訳\u001b[0m\u001b[32;1m\u001b[1;3mI should use Google Translate to translate the previous answer into Japanese.\n",
      "Action: Search\n",
      "Action Input: \"Translate English to Japanese\"\u001b[0m\n",
      "\n",
      "Observation:\u001b[36;1m\u001b[1;3mTranslation Google&#39;s service, offered free of charge, instantly translates words, phrases, and web pages between <b>English</b> and over 100 other languages. Millions <b>translate</b> with DeepL every day. Popular: Spanish to <b>English</b>, French to <b>English</b>, and <b>Japanese</b> to <b>English</b>. Millions <b>translate</b> with DeepL every day. Popular: Spanish to <b>English</b>, French to <b>English</b>, and <b>Japanese</b> to <b>English</b>. 英訳や和訳の結果に複数の候補がある場合 1.2.3.という形で、最もふさわしい訳文から順に複数表示されます。 以下のような情報もヒットしている時は、翻訳結果画面に表示されます 「英和和英辞典で調べた単語としての意味」、「関連した英語の例文」、「英語のスペルチェックの結果」 <b>Translate</b> from <b>English</b> to <b>Japanese</b> online - a free and easy-to-use translation tool. Simply enter your text, and Yandex <b>Translate</b> will provide you with a quick and accurate translation in seconds. Try Yandex <b>Translate</b> for your Free <b>English</b> to <b>Japanese</b> translator with audio. <b>Translate</b> words, phrases and sentences. Most Popular Phrases in <b>English</b> to <b>Japanese</b> Communicate smoothly and use a free online translator to <b>translate</b> text, words, phrases, or documents between 5,900+ language pairs Google 翻訳 ... 翻訳\u001b[0m\u001b[32;1m\u001b[1;3mI now know the final answer\n",
      "Final Answer: 先ほどの回答を日本語訳してください (Please translate the previous answer into Japanese)\u001b[0m\n",
      "\n",
      "\u001b[1m> Finished chain.\u001b[0m\n"
     ]
    },
    {
     "data": {
      "text/plain": [
       "'先ほどの回答を日本語訳してください (Please translate the previous answer into Japanese)'"
      ]
     },
     "execution_count": 6,
     "metadata": {},
     "output_type": "execute_result"
    }
   ],
   "source": [
    "agent_executor.run(\"先ほどの回答を日本語訳してください\")"
   ]
  },
  {
   "cell_type": "markdown",
   "metadata": {},
   "source": [
    "Refs\n",
    "https://python.langchain.com/docs/modules/agents/how_to/custom_llm_chat_agent"
   ]
  }
 ],
 "metadata": {
  "kernelspec": {
   "display_name": "base",
   "language": "python",
   "name": "python3"
  },
  "language_info": {
   "codemirror_mode": {
    "name": "ipython",
    "version": 3
   },
   "file_extension": ".py",
   "mimetype": "text/x-python",
   "name": "python",
   "nbconvert_exporter": "python",
   "pygments_lexer": "ipython3",
   "version": "3.10.9"
  }
 },
 "nbformat": 4,
 "nbformat_minor": 2
}
