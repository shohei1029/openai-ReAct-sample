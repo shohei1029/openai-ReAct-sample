{
 "cells": [
  {
   "cell_type": "markdown",
   "metadata": {},
   "source": []
  },
  {
   "cell_type": "code",
   "execution_count": null,
   "metadata": {},
   "outputs": [],
   "source": []
  },
  {
   "cell_type": "code",
   "execution_count": 5,
   "metadata": {},
   "outputs": [],
   "source": [
    "import os\n",
    "from langchain.chat_models import AzureChatOpenAI # Azure OpenAI を利用する場合\n",
    "# from langchain.chat_models import ChatOpenAI # OpenAI APIを利用する場合\n",
    "from langchain.chains import ConversationChain\n",
    "from langchain.memory import ConversationBufferMemory\n",
    "# from langchain.memory import ConversationSummaryBufferMemory\n",
    "from langchain.utilities import SerpAPIWrapper\n",
    "# from langchain.memory import CosmosDBChatMessageHistory # for cosmosDB\n",
    "from langchain.memory.chat_message_histories import RedisChatMessageHistory # for Redis\n",
    "from langchain.agents import (\n",
    "    Tool,\n",
    "    initialize_agent,\n",
    "    AgentType\n",
    ")\n",
    "from langchain.prompts.chat import (\n",
    "    ChatPromptTemplate,\n",
    "    MessagesPlaceholder, \n",
    "    SystemMessagePromptTemplate,\n",
    "    HumanMessagePromptTemplate,\n",
    ")\n",
    "from dotenv import load_dotenv \n",
    "load_dotenv(\"/home/shohei/.env\", override=True)\n",
    "\n",
    "# AzureChatOpenAIクラスのインスタンス作成\n",
    "chat = AzureChatOpenAI(openai_api_base = os.environ[\"AZURE_OPENAI_API_BASE\"], # リソースによって異なる\n",
    "                        openai_api_version = \"2023-07-01-preview\", \n",
    "                        openai_api_key = os.environ[\"AZURE_OPENAI_API_KEY\"],\n",
    "                        deployment_name=\"gpt-35-turbo\", # モデルのデプロイ名\n",
    "                        temperature=0.7)\n",
    "\n",
    "search = SerpAPIWrapper(serpapi_api_key=os.environ[\"SERPAPI_API_KEY\"])\n",
    "tools = [\n",
    "    Tool(\n",
    "        name = \"Current Search\",\n",
    "        func=search.run,\n",
    "        description=\"useful for when you need to answer questions about current events or the current state of the world. the input to this should be a single search term.\"\n",
    "    ),\n",
    "]\n",
    "\n",
    "# 会話の履歴を保持するためのメモリオブジェクトを作成\n",
    "memory = ConversationBufferMemory(memory_key=\"chat_history\", return_messages=True)\n",
    "\n"
   ]
  },
  {
   "cell_type": "code",
   "execution_count": 6,
   "metadata": {},
   "outputs": [],
   "source": [
    "agent_chain = initialize_agent(tools, chat, agent=AgentType.CHAT_CONVERSATIONAL_REACT_DESCRIPTION, verbose=True, memory=memory, )"
   ]
  },
  {
   "cell_type": "markdown",
   "metadata": {},
   "source": [
    "検索不要な入力はそのまま回答する"
   ]
  },
  {
   "cell_type": "code",
   "execution_count": 7,
   "metadata": {},
   "outputs": [
    {
     "name": "stdout",
     "output_type": "stream",
     "text": [
      "\n",
      "\n",
      "\u001b[1m> Entering new AgentExecutor chain...\u001b[0m\n",
      "\u001b[32;1m\u001b[1;3m{\n",
      "    \"action\": \"Final Answer\",\n",
      "    \"action_input\": \"お疲れ様です！ゆっくり休んでくださいね。\"\n",
      "}\u001b[0m\n",
      "\n",
      "\u001b[1m> Finished chain.\u001b[0m\n"
     ]
    },
    {
     "data": {
      "text/plain": [
       "'お疲れ様です！ゆっくり休んでくださいね。'"
      ]
     },
     "execution_count": 7,
     "metadata": {},
     "output_type": "execute_result"
    }
   ],
   "source": [
    "agent_chain.run(input=\"今日は仕事つかれたよー\")"
   ]
  },
  {
   "cell_type": "markdown",
   "metadata": {},
   "source": [
    "検索が必要と判断したら、検索する"
   ]
  },
  {
   "cell_type": "code",
   "execution_count": 8,
   "metadata": {},
   "outputs": [
    {
     "name": "stdout",
     "output_type": "stream",
     "text": [
      "\n",
      "\n",
      "\u001b[1m> Entering new AgentExecutor chain...\u001b[0m\n",
      "\u001b[32;1m\u001b[1;3m{\n",
      "    \"action\": \"Current Search\",\n",
      "    \"action_input\": \"Microsoft\"\n",
      "}\u001b[0m\n",
      "Observation: \u001b[36;1m\u001b[1;3mExplore Microsoft products and services for your home or business. Shop Surface, Microsoft 365, Xbox, Windows, Azure, and more. Find downloads and get ...\u001b[0m\n",
      "Thought:\u001b[32;1m\u001b[1;3m{\n",
      "    \"action\": \"Final Answer\",\n",
      "    \"action_input\": \"Microsoft is a multinational technology company that develops, manufactures, licenses, supports, and sells computer software, consumer electronics, personal computers, and related services.\"\n",
      "}\u001b[0m\n",
      "\n",
      "\u001b[1m> Finished chain.\u001b[0m\n"
     ]
    },
    {
     "data": {
      "text/plain": [
       "'Microsoft is a multinational technology company that develops, manufactures, licenses, supports, and sells computer software, consumer electronics, personal computers, and related services.'"
      ]
     },
     "execution_count": 8,
     "metadata": {},
     "output_type": "execute_result"
    }
   ],
   "source": [
    "agent_chain.run(input=\"Microsoftって何の会社？\")"
   ]
  },
  {
   "cell_type": "markdown",
   "metadata": {},
   "source": [
    "先の会話内容も覚えており、必要に応じて勝手に参照してくれる"
   ]
  },
  {
   "cell_type": "code",
   "execution_count": 9,
   "metadata": {},
   "outputs": [
    {
     "name": "stdout",
     "output_type": "stream",
     "text": [
      "\n",
      "\n",
      "\u001b[1m> Entering new AgentExecutor chain...\u001b[0m\n",
      "\u001b[32;1m\u001b[1;3m\n",
      "回答するために、ツールを使用する必要があります。具体的には、翻訳ツールを使用して日本語から英語に翻訳することができます。以下の形式で回答を提供します。\n",
      "\n",
      "```json\n",
      "{\n",
      "    \"action\": \"翻訳\",\n",
      "    \"action_input\": \"日本語の文\"\n",
      "}\n",
      "```\n",
      "\n",
      "上記の形式で、翻訳したい日本語の文を指定してください。\u001b[0m\n",
      "Observation: 翻訳 is not a valid tool, try another one.\n",
      "Thought:\u001b[32;1m\u001b[1;3mI apologize for the confusion. Let me provide the response to your last comment without using any specific tools. Here is the response in the required format:\n",
      "\n",
      "```json\n",
      "{\n",
      "    \"action\": \"Final Answer\",\n",
      "    \"action_input\": \"Microsoftは、コンピューターソフトウェア、消費者向け電子機器、パーソナルコンピューターなどを開発、製造、販売、サポートする多国籍のテクノロジーカンパニーです。\"\n",
      "}\n",
      "```\n",
      "\n",
      "以上が回答です。Microsoftは、コンピューターソフトウェア、消費者向け電子機器、パーソナルコンピューターなどを開発、製造、販売、サポートする会社です。\u001b[0m\n",
      "\n",
      "\u001b[1m> Finished chain.\u001b[0m\n"
     ]
    },
    {
     "data": {
      "text/plain": [
       "'Microsoftは、コンピューターソフトウェア、消費者向け電子機器、パーソナルコンピューターなどを開発、製造、販売、サポートする多国籍のテクノロジーカンパニーです。'"
      ]
     },
     "execution_count": 9,
     "metadata": {},
     "output_type": "execute_result"
    }
   ],
   "source": [
    "agent_chain.run(input=\"日本語で教えて\")"
   ]
  },
  {
   "cell_type": "markdown",
   "metadata": {},
   "source": [
    "別のセッション"
   ]
  },
  {
   "cell_type": "code",
   "execution_count": null,
   "metadata": {},
   "outputs": [],
   "source": [
    "memory = ConversationBufferMemory(memory_key=\"chat_history2\", return_messages=True)"
   ]
  }
 ],
 "metadata": {
  "kernelspec": {
   "display_name": "base",
   "language": "python",
   "name": "python3"
  },
  "language_info": {
   "codemirror_mode": {
    "name": "ipython",
    "version": 3
   },
   "file_extension": ".py",
   "mimetype": "text/x-python",
   "name": "python",
   "nbconvert_exporter": "python",
   "pygments_lexer": "ipython3",
   "version": "3.10.9"
  }
 },
 "nbformat": 4,
 "nbformat_minor": 2
}
